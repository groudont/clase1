{
  "nbformat": 4,
  "nbformat_minor": 0,
  "metadata": {
    "colab": {
      "name": "clase1.ipynb",
      "version": "0.3.2",
      "provenance": [],
      "include_colab_link": true
    },
    "kernelspec": {
      "name": "python3",
      "display_name": "Python 3"
    }
  },
  "cells": [
    {
      "cell_type": "markdown",
      "metadata": {
        "id": "view-in-github",
        "colab_type": "text"
      },
      "source": [
        "<a href=\"https://colab.research.google.com/github/groudont/clase1/blob/master/clase1.ipynb\" target=\"_parent\"><img src=\"https://colab.research.google.com/assets/colab-badge.svg\" alt=\"Open In Colab\"/></a>"
      ]
    },
    {
      "cell_type": "markdown",
      "metadata": {
        "id": "QyuKSxxLH4AT",
        "colab_type": "text"
      },
      "source": [
        "LIbreria para manejar los vectores "
      ]
    },
    {
      "cell_type": "code",
      "metadata": {
        "id": "cbO_cv6wE2EV",
        "colab_type": "code",
        "colab": {}
      },
      "source": [
        "\n",
        "import numpy as np\n",
        "import matplotlib.pyplot as plt \n",
        "\n",
        "# INGRESO \n",
        "a = .5 #rango de tiempo\n",
        "b = 5 \n",
        "dt = 0.1\n",
        "sigma = 0 # 5 = 0 +0j\n",
        "omega = 0 \n",
        "\n",
        "#PROCEDIMIENTO\n",
        "t = np.arange(a, b, dt)\n",
        "s = complex (sigma,omega)\n",
        "senal\n"
      ],
      "execution_count": 0,
      "outputs": []
    }
  ]
}